{
 "cells": [
  {
   "cell_type": "markdown",
   "metadata": {},
   "source": []
  },
  {
   "cell_type": "code",
   "execution_count": 5,
   "metadata": {},
   "outputs": [
    {
     "name": "stdout",
     "output_type": "stream",
     "text": [
      "Dataset shape: (81920, 34)\n",
      "Columns: ['job_id', 'rcid', 'company', 'rics_k50', 'rics_k200', 'rics_k400', 'title_raw', 'title_translated', 'job_category', 'role_k50', 'role_k150', 'role_k300', 'role_k500', 'role_k1000', 'role_k1250', 'role_k1500', 'location_raw', 'region', 'country', 'state', 'metro_area', 'salary', 'post_date', 'remove_date', 'ultimate_parent_rcid', 'ultimate_parent_company_name', 'onet_code', 'onet_title', 'remote_type', 'jobtitle', 'description', 'salary_min', 'salary_max', 'salary_predicted']\n"
     ]
    }
   ],
   "source": [
    "import pandas as pd\n",
    "import pyarrow.parquet as pq\n",
    "\n",
    "# Read parquet using pyarrow directly, ignoring extension types\n",
    "table = pq.read_table(\"postings_linkedin_individual_0000_part_01.parquet\")\n",
    "df = table.to_pandas(ignore_metadata=True)\n",
    "\n",
    "print(\"Dataset shape:\", df.shape)\n",
    "print(\"Columns:\", df.columns.tolist())\n"
   ]
  },
  {
   "cell_type": "code",
   "execution_count": 6,
   "metadata": {},
   "outputs": [
    {
     "name": "stdout",
     "output_type": "stream",
     "text": [
      "Columns: ['job_id', 'rcid', 'company', 'rics_k50', 'rics_k200']\n"
     ]
    },
    {
     "data": {
      "text/html": [
       "<div>\n",
       "<style scoped>\n",
       "    .dataframe tbody tr th:only-of-type {\n",
       "        vertical-align: middle;\n",
       "    }\n",
       "\n",
       "    .dataframe tbody tr th {\n",
       "        vertical-align: top;\n",
       "    }\n",
       "\n",
       "    .dataframe thead th {\n",
       "        text-align: right;\n",
       "    }\n",
       "</style>\n",
       "<table border=\"1\" class=\"dataframe\">\n",
       "  <thead>\n",
       "    <tr style=\"text-align: right;\">\n",
       "      <th></th>\n",
       "      <th>job_id</th>\n",
       "      <th>rcid</th>\n",
       "      <th>company</th>\n",
       "      <th>rics_k50</th>\n",
       "      <th>rics_k200</th>\n",
       "    </tr>\n",
       "  </thead>\n",
       "  <tbody>\n",
       "    <tr>\n",
       "      <th>0</th>\n",
       "      <td>373831869800000000002</td>\n",
       "      <td>6070410</td>\n",
       "      <td>SchÃ¶n Klinik Gruppe</td>\n",
       "      <td>Healthcare and Wellness Services</td>\n",
       "      <td>Mental and Public Health Services</td>\n",
       "    </tr>\n",
       "    <tr>\n",
       "      <th>1</th>\n",
       "      <td>370402171700000000002</td>\n",
       "      <td>405626</td>\n",
       "      <td>Nevada HAND, Inc.</td>\n",
       "      <td>Real Estate and Development</td>\n",
       "      <td>Real Estate Development and Management</td>\n",
       "    </tr>\n",
       "    <tr>\n",
       "      <th>2</th>\n",
       "      <td>347726240300000000002</td>\n",
       "      <td>730244</td>\n",
       "      <td>Great Clips, Inc.</td>\n",
       "      <td>Wellness Products</td>\n",
       "      <td>Health and Beauty Care</td>\n",
       "    </tr>\n",
       "    <tr>\n",
       "      <th>3</th>\n",
       "      <td>3851002279</td>\n",
       "      <td>980711</td>\n",
       "      <td>Elora SAS</td>\n",
       "      <td>Apparel Retail</td>\n",
       "      <td>Apparel and Fashion Retail</td>\n",
       "    </tr>\n",
       "    <tr>\n",
       "      <th>4</th>\n",
       "      <td>3892258137</td>\n",
       "      <td>14069521</td>\n",
       "      <td>Jobs via eFinancialCareers</td>\n",
       "      <td>Human Resources Services</td>\n",
       "      <td>Employment and Staffing Services</td>\n",
       "    </tr>\n",
       "  </tbody>\n",
       "</table>\n",
       "</div>"
      ],
      "text/plain": [
       "                  job_id      rcid                     company  \\\n",
       "0  373831869800000000002   6070410        SchÃ¶n Klinik Gruppe   \n",
       "1  370402171700000000002    405626           Nevada HAND, Inc.   \n",
       "2  347726240300000000002    730244           Great Clips, Inc.   \n",
       "3             3851002279    980711                   Elora SAS   \n",
       "4             3892258137  14069521  Jobs via eFinancialCareers   \n",
       "\n",
       "                           rics_k50                               rics_k200  \n",
       "0  Healthcare and Wellness Services       Mental and Public Health Services  \n",
       "1       Real Estate and Development  Real Estate Development and Management  \n",
       "2                 Wellness Products                  Health and Beauty Care  \n",
       "3                    Apparel Retail              Apparel and Fashion Retail  \n",
       "4          Human Resources Services        Employment and Staffing Services  "
      ]
     },
     "metadata": {},
     "output_type": "display_data"
    }
   ],
   "source": [
    "# Display the first 5 columns of the dataset\n",
    "print(\"Columns:\", df.columns[:5].tolist())\n",
    "display(df[df.columns[:5]].head())\n"
   ]
  },
  {
   "cell_type": "code",
   "execution_count": 7,
   "metadata": {},
   "outputs": [
    {
     "name": "stdout",
     "output_type": "stream",
     "text": [
      "Number of null values per column:\n"
     ]
    },
    {
     "data": {
      "text/plain": [
       "salary_min                      76124\n",
       "salary_max                      76122\n",
       "remove_date                       666\n",
       "description                       113\n",
       "location_raw                       85\n",
       "title_translated                   69\n",
       "jobtitle                           65\n",
       "title_raw                          33\n",
       "role_k1000                         11\n",
       "role_k1250                         11\n",
       "role_k300                          11\n",
       "role_k500                          11\n",
       "role_k150                          11\n",
       "role_k50                           11\n",
       "job_category                       11\n",
       "salary                             10\n",
       "salary_predicted                   10\n",
       "rics_k400                           1\n",
       "rics_k200                           1\n",
       "ultimate_parent_rcid                1\n",
       "ultimate_parent_company_name        1\n",
       "rics_k50                            1\n",
       "rcid                                0\n",
       "job_id                              0\n",
       "company                             0\n",
       "role_k1500                          0\n",
       "region                              0\n",
       "country                             0\n",
       "state                               0\n",
       "metro_area                          0\n",
       "post_date                           0\n",
       "remote_type                         0\n",
       "onet_code                           0\n",
       "onet_title                          0\n",
       "dtype: int64"
      ]
     },
     "metadata": {},
     "output_type": "display_data"
    }
   ],
   "source": [
    "# Count the number of null (missing) values in each column\n",
    "null_counts = df.isnull().sum().sort_values(ascending=False)\n",
    "\n",
    "print(\"Number of null values per column:\")\n",
    "display(null_counts)\n"
   ]
  },
  {
   "cell_type": "code",
   "execution_count": null,
   "metadata": {},
   "outputs": [],
   "source": []
  },
  {
   "cell_type": "code",
   "execution_count": null,
   "metadata": {},
   "outputs": [],
   "source": []
  },
  {
   "cell_type": "code",
   "execution_count": null,
   "metadata": {},
   "outputs": [],
   "source": []
  }
 ],
 "metadata": {
  "kernelspec": {
   "display_name": ".venv",
   "language": "python",
   "name": "python3"
  },
  "language_info": {
   "codemirror_mode": {
    "name": "ipython",
    "version": 3
   },
   "file_extension": ".py",
   "mimetype": "text/x-python",
   "name": "python",
   "nbconvert_exporter": "python",
   "pygments_lexer": "ipython3",
   "version": "3.12.3"
  }
 },
 "nbformat": 4,
 "nbformat_minor": 5
}
